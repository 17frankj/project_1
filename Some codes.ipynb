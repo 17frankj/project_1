{
 "cells": [
  {
   "cell_type": "code",
   "execution_count": 6,
   "metadata": {},
   "outputs": [
    {
     "name": "stdin",
     "output_type": "stream",
     "text": [
      "What is your name?  Kai \n",
      "What is your favorite color?  red\n"
     ]
    },
    {
     "name": "stdout",
     "output_type": "stream",
     "text": [
      "Hello, My name is Kai ! My favorite color is red.\n"
     ]
    }
   ],
   "source": [
    "# Ask the user for their name\n",
    "name = input(\"What is your name? \")\n",
    "\n",
    "# Ask the user for their favorite color\n",
    "color = input(\"What is your favorite color? \")\n",
    "\n",
    "# Print a message with the user's name and color\n",
    "print(f\"Hello, My name is {name}! My favorite color is {color}.\")\n"
   ]
  },
  {
   "cell_type": "markdown",
   "metadata": {},
   "source": []
  }
 ],
 "metadata": {
  "kernelspec": {
   "display_name": "Python 3",
   "language": "python",
   "name": "python3"
  },
  "language_info": {
   "codemirror_mode": {
    "name": "ipython",
    "version": 3
   },
   "file_extension": ".py",
   "mimetype": "text/x-python",
   "name": "python",
   "nbconvert_exporter": "python",
   "pygments_lexer": "ipython3",
   "version": "3.8.3"
  }
 },
 "nbformat": 4,
 "nbformat_minor": 4
}
